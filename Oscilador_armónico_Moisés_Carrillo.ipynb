{
  "nbformat": 4,
  "nbformat_minor": 0,
  "metadata": {
    "colab": {
      "name": "Oscilador armónico_Moisés Carrillo.ipynb",
      "provenance": [],
      "collapsed_sections": [],
      "authorship_tag": "ABX9TyOuMBfaM0C/CinwG9suh4Vg",
      "include_colab_link": true
    },
    "kernelspec": {
      "name": "python3",
      "display_name": "Python 3"
    },
    "language_info": {
      "name": "python"
    }
  },
  "cells": [
    {
      "cell_type": "markdown",
      "metadata": {
        "id": "view-in-github",
        "colab_type": "text"
      },
      "source": [
        "<a href=\"https://colab.research.google.com/github/Jesmoy02/Clase-26-de-Agosto/blob/main/Oscilador_arm%C3%B3nico_Mois%C3%A9s_Carrillo.ipynb\" target=\"_parent\"><img src=\"https://colab.research.google.com/assets/colab-badge.svg\" alt=\"Open In Colab\"/></a>"
      ]
    },
    {
      "cell_type": "code",
      "metadata": {
        "colab": {
          "base_uri": "https://localhost:8080/",
          "height": 350
        },
        "id": "Htqk-TwWnMZD",
        "outputId": "2a368007-ad46-4569-83b2-ebfd58f96bfb"
      },
      "source": [
        "#Graficar oscilador armónico\n",
        "#Autor: Moisés Carrillo\n",
        "#Fecha: Agosto 30, 2021\n",
        "\n",
        "import matplotlib.pyplot as plt\n",
        "import numpy as np\n",
        "#Lectura de variables\n",
        "m=int(input(\"Escribe la masa, en kg, con la que se trabaja: \")) #variable a trabajar\n",
        "k=int(input(\"Escribe la constante del resorte con la que se trabaja: \")) #variable a trabajar\n",
        "A=int(input(\"Escribe la amplitud con la que se trabaja: \")) #variable a trabajar\n",
        "#Operaciones\n",
        "w=np.sqrt(k/m)\n",
        "print(\"La frecuencia angular, en Hz, es de\", round(w,3))\n",
        "T=(2*np.pi)*np.sqrt(m/k)\n",
        "print(\"El periodo, en s, es de\", round(P,3))\n",
        "\n",
        "def f1(t1):\n",
        "  return A*np.sin((2*np.pi)/T*t1)\n",
        "\n",
        "t1=np.arange(0.0,10.00,0.0001)\n",
        "\n",
        "plt.plot(t1,f1(t1))\n",
        "plt.grid(color='b', linestyle='-', linewidth=1)\n",
        "plt.show()\n"
      ],
      "execution_count": null,
      "outputs": [
        {
          "output_type": "stream",
          "name": "stdout",
          "text": [
            "Escribe la masa, en kg, con la que se trabaja: 5\n",
            "Escribe la constante del resorte con la que se trabaja: 6\n",
            "Escribe la amplitud con la que se trabaja: 7\n",
            "La frecuencia angular, en Hz, es de 1.095\n",
            "El periodo, en s, es de 7.948\n"
          ]
        },
        {
          "output_type": "display_data",
          "data": {
            "image/png": "[encoded data removed]",
            "text/plain": [
              "<Figure size 432x288 with 1 Axes>"
            ]
          },
          "metadata": {
            "needs_background": "light"
          }
        }
      ]
    },
    {
      "cell_type": "code",
      "metadata": {
        "colab": {
          "base_uri": "https://localhost:8080/"
        },
        "id": "3CAQ7ouoMeNT",
        "outputId": "b98431b4-2b71-45a7-a7d8-9b569a014635"
      },
      "source": [
        "#Graficar oscilador armónico\n",
        "#Autor: Moisés Carrillo\n",
        "#Fecha: Agosto 30, 2021\n",
        "\n",
        "import matplotlib.pyplot as plt\n",
        "import numpy as np\n",
        "\n",
        "#Definicion de funciones\n",
        "def ft1(A, w, t):\n",
        "  return A*np.sin(w*t)\n",
        "def ft2(A, w, t, h):\n",
        "  return A*np.sin(w*(t+h))\n",
        "\n",
        "#Lectura de variables\n",
        "t=float(input(\"Escribe el tiempo, en s, con la que se trabaja para evaluar la derivada: \")) #variable a trabajar\n",
        "T=float(input(\"Escribe el periodo, en s, con el que se trabaja: \")) #variable a trabajar\n",
        "A=float(input(\"Escribe la amplitud con la que se trabaja: \")) #variable a trabajar\n",
        "h=float(input(\"Escribe el valor de h con el que se trabaja: \")) #variable a trabajar\n",
        "\n",
        "#Operaciones\n",
        "w=2*np.pi/T\n",
        "\n",
        "print(\"El valor de la derivada es \", (ft2(A, w, t, h)-ft1(A, w, t,))/h)"
      ],
      "execution_count": 2,
      "outputs": [
        {
          "output_type": "stream",
          "name": "stdout",
          "text": [
            "Escribe el tiempo, en s, con la que se trabaja para evaluar la derivada: 3\n",
            "Escribe el periodo, en s, con el que se trabaja: 2\n",
            "Escribe la amplitud con la que se trabaja: 5\n",
            "Escribe el valor de h con el que se trabaja: 0.5\n",
            "El valor de la derivada es  -10.000000000000004\n"
          ]
        }
      ]
    }
  ]
}